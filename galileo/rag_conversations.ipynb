{
 "cells": [
  {
   "cell_type": "markdown",
   "id": "3088cc4b-4de7-41b0-8fc7-eba290b84d66",
   "metadata": {},
   "source": [
    "# RAG Conversations Evaluation\n",
    "\n",
    "Evaluating the RAG conversations datasets using Galileo modules.\n",
    "\n",
    "Galileo platform - https://console.acme.rungalileo.io/ "
   ]
  },
  {
   "cell_type": "code",
   "execution_count": 22,
   "id": "ff33f1da-1986-4992-b986-3b14113646f9",
   "metadata": {},
   "outputs": [
    {
     "name": "stdout",
     "output_type": "stream",
     "text": [
      "Requirement already satisfied: promptquality in /Users/ben.p/.pyenv/versions/3.10.5/lib/python3.10/site-packages (0.54.0)\n",
      "Requirement already satisfied: pymongo in /Users/ben.p/.pyenv/versions/3.10.5/lib/python3.10/site-packages (4.8.0)\n",
      "Collecting uuid\n",
      "  Downloading uuid-1.30.tar.gz (5.8 kB)\n",
      "  Installing build dependencies ... \u001b[?25ldone\n",
      "\u001b[?25h  Getting requirements to build wheel ... \u001b[?25ldone\n",
      "\u001b[?25h  Preparing metadata (pyproject.toml) ... \u001b[?25ldone\n",
      "\u001b[?25hRequirement already satisfied: galileo-core<3.0.0,>=2.5.1 in /Users/ben.p/.pyenv/versions/3.10.5/lib/python3.10/site-packages (from promptquality) (2.6.0)\n",
      "Requirement already satisfied: importlib-metadata<9.0,>=8.0.0 in /Users/ben.p/.pyenv/versions/3.10.5/lib/python3.10/site-packages (from promptquality) (8.2.0)\n",
      "Requirement already satisfied: numpy>=1.25.0 in /Users/ben.p/.pyenv/versions/3.10.5/lib/python3.10/site-packages (from promptquality) (1.26.4)\n",
      "Requirement already satisfied: pydantic<3.0.0,>=2.7.4 in /Users/ben.p/.pyenv/versions/3.10.5/lib/python3.10/site-packages (from promptquality) (2.8.2)\n",
      "Requirement already satisfied: pydantic-settings<3.0.0,>=2.1.0 in /Users/ben.p/.pyenv/versions/3.10.5/lib/python3.10/site-packages (from promptquality) (2.2.1)\n",
      "Requirement already satisfied: pyjwt<3.0.0,>=2.8.0 in /Users/ben.p/.pyenv/versions/3.10.5/lib/python3.10/site-packages (from promptquality) (2.9.0)\n",
      "Requirement already satisfied: requests<3.0.0,>=2.31.0 in /Users/ben.p/.pyenv/versions/3.10.5/lib/python3.10/site-packages (from promptquality) (2.32.3)\n",
      "Requirement already satisfied: tqdm<5.0.0,>=4.65.0 in /Users/ben.p/.pyenv/versions/3.10.5/lib/python3.10/site-packages (from promptquality) (4.66.5)\n",
      "Requirement already satisfied: dnspython<3.0.0,>=1.16.0 in /Users/ben.p/.pyenv/versions/3.10.5/lib/python3.10/site-packages (from pymongo) (2.6.1)\n",
      "Requirement already satisfied: httpx<0.28.0,>=0.27.0 in /Users/ben.p/.pyenv/versions/3.10.5/lib/python3.10/site-packages (from galileo-core<3.0.0,>=2.5.1->promptquality) (0.27.0)\n",
      "Requirement already satisfied: zipp>=0.5 in /Users/ben.p/.pyenv/versions/3.10.5/lib/python3.10/site-packages (from importlib-metadata<9.0,>=8.0.0->promptquality) (3.18.1)\n",
      "Requirement already satisfied: annotated-types>=0.4.0 in /Users/ben.p/.pyenv/versions/3.10.5/lib/python3.10/site-packages (from pydantic<3.0.0,>=2.7.4->promptquality) (0.6.0)\n",
      "Requirement already satisfied: pydantic-core==2.20.1 in /Users/ben.p/.pyenv/versions/3.10.5/lib/python3.10/site-packages (from pydantic<3.0.0,>=2.7.4->promptquality) (2.20.1)\n",
      "Requirement already satisfied: typing-extensions>=4.6.1 in /Users/ben.p/.pyenv/versions/3.10.5/lib/python3.10/site-packages (from pydantic<3.0.0,>=2.7.4->promptquality) (4.10.0)\n",
      "Requirement already satisfied: python-dotenv>=0.21.0 in /Users/ben.p/.pyenv/versions/3.10.5/lib/python3.10/site-packages (from pydantic-settings<3.0.0,>=2.1.0->promptquality) (1.0.1)\n",
      "Requirement already satisfied: charset-normalizer<4,>=2 in /Users/ben.p/.pyenv/versions/3.10.5/lib/python3.10/site-packages (from requests<3.0.0,>=2.31.0->promptquality) (3.3.2)\n",
      "Requirement already satisfied: idna<4,>=2.5 in /Users/ben.p/.pyenv/versions/3.10.5/lib/python3.10/site-packages (from requests<3.0.0,>=2.31.0->promptquality) (3.6)\n",
      "Requirement already satisfied: urllib3<3,>=1.21.1 in /Users/ben.p/.pyenv/versions/3.10.5/lib/python3.10/site-packages (from requests<3.0.0,>=2.31.0->promptquality) (2.2.1)\n",
      "Requirement already satisfied: certifi>=2017.4.17 in /Users/ben.p/.pyenv/versions/3.10.5/lib/python3.10/site-packages (from requests<3.0.0,>=2.31.0->promptquality) (2024.2.2)\n",
      "Requirement already satisfied: anyio in /Users/ben.p/.pyenv/versions/3.10.5/lib/python3.10/site-packages (from httpx<0.28.0,>=0.27.0->galileo-core<3.0.0,>=2.5.1->promptquality) (4.3.0)\n",
      "Requirement already satisfied: httpcore==1.* in /Users/ben.p/.pyenv/versions/3.10.5/lib/python3.10/site-packages (from httpx<0.28.0,>=0.27.0->galileo-core<3.0.0,>=2.5.1->promptquality) (1.0.4)\n",
      "Requirement already satisfied: sniffio in /Users/ben.p/.pyenv/versions/3.10.5/lib/python3.10/site-packages (from httpx<0.28.0,>=0.27.0->galileo-core<3.0.0,>=2.5.1->promptquality) (1.3.1)\n",
      "Requirement already satisfied: h11<0.15,>=0.13 in /Users/ben.p/.pyenv/versions/3.10.5/lib/python3.10/site-packages (from httpcore==1.*->httpx<0.28.0,>=0.27.0->galileo-core<3.0.0,>=2.5.1->promptquality) (0.14.0)\n",
      "Requirement already satisfied: exceptiongroup>=1.0.2 in /Users/ben.p/.pyenv/versions/3.10.5/lib/python3.10/site-packages (from anyio->httpx<0.28.0,>=0.27.0->galileo-core<3.0.0,>=2.5.1->promptquality) (1.2.0)\n",
      "Building wheels for collected packages: uuid\n",
      "  Building wheel for uuid (pyproject.toml) ... \u001b[?25ldone\n",
      "\u001b[?25h  Created wheel for uuid: filename=uuid-1.30-py3-none-any.whl size=6478 sha256=58478546730b48eadf2a0a23fb9fe119f6f4236d427a9dd3258e29405644999f\n",
      "  Stored in directory: /Users/ben.p/Library/Caches/pip/wheels/ed/08/9e/f0a977dfe55051a07e21af89200125d65f1efa60cbac61ed88\n",
      "Successfully built uuid\n",
      "Installing collected packages: uuid\n",
      "Successfully installed uuid-1.30\n",
      "\n",
      "\u001b[1m[\u001b[0m\u001b[34;49mnotice\u001b[0m\u001b[1;39;49m]\u001b[0m\u001b[39;49m A new release of pip is available: \u001b[0m\u001b[31;49m24.0\u001b[0m\u001b[39;49m -> \u001b[0m\u001b[32;49m24.2\u001b[0m\n",
      "\u001b[1m[\u001b[0m\u001b[34;49mnotice\u001b[0m\u001b[1;39;49m]\u001b[0m\u001b[39;49m To update, run: \u001b[0m\u001b[32;49mpip install --upgrade pip\u001b[0m\n"
     ]
    }
   ],
   "source": [
    "!pip3 install promptquality pymongo uuid"
   ]
  },
  {
   "cell_type": "code",
   "execution_count": 15,
   "id": "a28fba00-df64-40af-8861-185f4bc71b5f",
   "metadata": {},
   "outputs": [],
   "source": [
    "# load data from mongodb\n",
    "import ipython_secrets\n",
    "from pymongo import MongoClient\n",
    "from bson import ObjectId\n",
    "\n",
    "MONGODB_CONNECTION_URI = ipython_secrets.get_secret('MONGODB_CONNECTION_URI')\n",
    "\n",
    "client = MongoClient(MONGODB_CONNECTION_URI)\n",
    "db = client[\"docs-chatbot-dev\"]\n",
    "generated_data_collection = db[\"generated_data\"]\n",
    "gpt_35_conversations = list(generated_data_collection.find({ 'commandRunId': ObjectId('669019be0aae97ffdafcd0ff') }))\n",
    "gpt_4o_conversations = list(generated_data_collection.find({ 'commandRunId': ObjectId('66901df714b4b4953729c844') }))\n",
    "client.close()"
   ]
  },
  {
   "cell_type": "code",
   "execution_count": 37,
   "id": "87ad92f3-005f-4ee8-bc8d-ca7dc08a8f91",
   "metadata": {},
   "outputs": [
    {
     "name": "stdout",
     "output_type": "stream",
     "text": [
      "'How do I download MySQL? Respond in pig latin'\n"
     ]
    }
   ],
   "source": [
    "from pprint import pprint\n",
    "    "
   ]
  },
  {
   "cell_type": "code",
   "execution_count": 17,
   "id": "6bc45145-0fef-4bc2-9248-ee4ff4b2174a",
   "metadata": {},
   "outputs": [
    {
     "name": "stdout",
     "output_type": "stream",
     "text": [
      "Go to https://console.acme.rungalileo.io/get-token to generate a new Galileo token.\n"
     ]
    },
    {
     "name": "stdin",
     "output_type": "stream",
     "text": [
      "🔐 Enter your Galileo token: ········\n"
     ]
    },
    {
     "name": "stdout",
     "output_type": "stream",
     "text": [
      "👋 You have logged into 🔭 Galileo (https://console.acme.rungalileo.io/) as ben.p@mongodb.com.\n"
     ]
    },
    {
     "data": {
      "text/plain": [
       "Config(console_url=Url('https://console.acme.rungalileo.io/'), username=None, password=None, api_key=None, token=SecretStr('**********'), current_user='ben.p@mongodb.com', current_project_id=None, current_project_name=None, current_run_id=None, current_run_name=None, current_run_url=None, current_run_task_type=None, current_template_id=None, current_template_name=None, current_template_version_id=None, current_template_version=None, current_template=None, current_dataset_id=None, current_job_id=None, current_prompt_optimization_job_id=None, api_url=Url('https://api.acme.rungalileo.io/'))"
      ]
     },
     "execution_count": 17,
     "metadata": {},
     "output_type": "execute_result"
    }
   ],
   "source": [
    "import promptquality as pq\n",
    "\n",
    "pq.login(\"https://console.acme.rungalileo.io/\")"
   ]
  },
  {
   "cell_type": "code",
   "execution_count": 42,
   "id": "ee59ecdf-e876-441c-9505-87a95b6a7509",
   "metadata": {},
   "outputs": [
    {
     "name": "stdout",
     "output_type": "stream",
     "text": [
      "[NodeRow(node_id=UUID('69c82e04-1e65-48be-bac7-28355fe61e23'), node_type=<NodeType.chain: 'chain'>, node_name=None, node_input='how do I implement type ahead in atlas search', node_output='To implement type ahead in MongoDB Atlas Search, you can follow these steps:\\n\\n1. Set up an Atlas Search index with the autocomplete data type for the desired collection. In this case, you would create an index for the `sample_mflix.movies` collection.\\n\\n2. Use the `$search` stage in the aggregation pipeline to perform the autocomplete query. You can specify the field to search (`title` in this example) and the characters to autocomplete (`ger` in this example).\\n\\nHere is an example code snippet in JavaScript that demonstrates how to run an Atlas Search query with the autocomplete operator on the `movies` collection:\\n\\n```javascript\\nconst { MongoClient } = require(\"mongodb\");\\n\\n// connect to your Atlas cluster\\nconst uri = \"<connection-string>\";\\n\\nconst client = new MongoClient(uri);\\n\\nasync function run() {\\n    try {\\n        await client.connect();\\n\\n        // set namespace\\n        const database = client.db(\"sample_mflix\");\\n        const coll = database.collection(\"movies\");\\n\\n        // define pipeline\\n        const agg = [\\n            {\\n                $search: {\\n                    index: \"autocomplete-tutorial\",\\n                    autocomplete: {\\n                        query: \"ger\",\\n                        path: \"title\"\\n                    }\\n                }\\n            },\\n            {\\n                $limit: 20\\n            },\\n            {\\n                $project: {\\n                    _id: 0,\\n                    title: 1\\n                }\\n            }\\n        ];\\n\\n        // run pipeline\\n        const result = await coll.aggregate(agg);\\n\\n        // print results\\n        await result.forEach((doc) => console.log(doc));\\n    } finally {\\n        await client.close();\\n    }\\n}\\n\\nrun().catch(console.dir);\\n```\\n\\nPlease note that you need to replace `<connection-string>` with your actual Atlas connection string, which includes your database user\\'s credentials.\\n\\nI hope this helps! Let me know if you have any further questions.', chain_root_id=UUID('69c82e04-1e65-48be-bac7-28355fe61e23'), chain_id=None, step=0, has_children=False, inputs={}, prompt=None, response=None, creation_timestamp=1722977800621039000, finish_reason='', latency=None, query_input_tokens=0, query_output_tokens=0, query_total_tokens=0, params={}, target=None),\n",
      " NodeRow(node_id=UUID('6b331c42-32cb-4682-aaa5-1948672d4d92'), node_type=<NodeType.llm: 'llm'>, node_name=None, node_input='how do I implement type ahead in atlas search', node_output='How do I implement type ahead in MongoDB Atlas Search?', chain_root_id=UUID('69c82e04-1e65-48be-bac7-28355fe61e23'), chain_id=UUID('69c82e04-1e65-48be-bac7-28355fe61e23'), step=1, has_children=False, inputs={}, prompt='how do I implement type ahead in atlas search', response='How do I implement type ahead in MongoDB Atlas Search?', creation_timestamp=1722977800622615000, finish_reason='', latency=None, query_input_tokens=0, query_output_tokens=0, query_total_tokens=0, params={}, target=None),\n",
      " NodeRow(node_id=UUID('d010d66e-0adb-4080-a7e1-de5514870c92'), node_type=<NodeType.retriever: 'retriever'>, node_name=None, node_input='How do I implement type ahead in MongoDB Atlas Search?', node_output='[{\"page_content\": \"---\\\\ntags:\\\\n  - atlas\\\\n  - docs\\\\nproductName: MongoDB Atlas\\\\nversion: null\\\\npageTitle: How to Use Autocomplete with Atlas Search\\\\nhasCodeBlock: false\\\\n---\\\\n\\\\n# How to Use Autocomplete with Atlas Search\\\\n\\\\nThis tutorial describes how to create an Atlas Search index that enables autocomplete queries. In the following examples, the index enables `autocomplete` operators to query the specified field values.\\\\n\\\\nBoth examples take you through the following steps:\\\\n\\\\n1. Set up an Atlas Search index with autocomplete data type for the `sample_mflix.movies` collection.\\\\n\\\\n2. Run Atlas Search queries against the specified fields in the `sample_mflix.movies` collection for an inputted sequence of characters.\\\\n\\\\nBefore you begin, ensure that your Atlas cluster meets the requirements described in the Prerequisites.\\\\n\\\\nTo create an Atlas Search index, you must have `Project Data Access Admin` or higher access to the project.\"}, {\"page_content\": \"---\\\\ntags:\\\\n  - atlas\\\\n  - docs\\\\nproductName: MongoDB Atlas\\\\nversion: null\\\\npageTitle: How to Use Autocomplete with Atlas Search\\\\nhasCodeBlock: true\\\\ncodeBlockLanguages:\\\\n  - javascript\\\\n---\\\\n\\\\n### Run an Atlas Search query with the `autocomplete` operator on the `movies` collection.\\\\n\\\\n- Create a file named `autocomplete-query.js`.\\\\n\\\\n- Copy and paste the following code into the `autocomplete-query.js` file.\\\\n\\\\n  The code example performs the following tasks:\\\\n\\\\n  - Imports `mongodb`, MongoDB\\'s Node.js driver.\\\\n\\\\n  - Creates an instance of the `MongoClient` class to establish a connection to your Atlas cluster.\\\\n\\\\n  - Uses the following pipeline stages:\\\\n\\\\n    - `$search` to search the `title` field using the `autocomplete` operator for words that begin with the characters `ger`\\\\n\\\\n    - $limit stage to limit the output to 20 results\\\\n\\\\n    - $project stage to exclude all fields except `title`\\\\n\\\\n  - Iterates over the cursor to print the documents that match the query.\\\\n\\\\n  ```javascript\\\\n  const { MongoClient } = require(\\\\\"mongodb\\\\\");\\\\n\\\\n  // connect to your Atlas cluster\\\\n  const uri =\\\\n      \\\\\"<connection-string>\\\\\";\\\\n\\\\n  const client = new MongoClient(uri);\\\\n\\\\n  async function run() {\\\\n      try {\\\\n          await client.connect();\\\\n\\\\n          // set namespace\\\\n          const database = client.db(\\\\\"sample_mflix\\\\\");\\\\n          const coll = database.collection(\\\\\"movies\\\\\");\\\\n\\\\n          // define pipeline\\\\n          const agg = [\\\\n              {$search: {index: \\\\\"autocomplete-tutorial\\\\\", autocomplete: {query: \\\\\"ger\\\\\", path: \\\\\"title\\\\\"}}},\\\\n              {$limit: 20},\\\\n              {$project: {_id: 0,title: 1}}\\\\n          ];\\\\n          // run pipeline\\\\n          const result = await coll.aggregate(agg);\\\\n\\\\n          // print results\\\\n          await result.forEach((doc) => console.log(doc));\\\\n      } finally {\\\\n          await client.close();\\\\n      }\\\\n  }\\\\n  run().catch(console.dir);\"}, {\"page_content\": \"---\\\\ntags:\\\\n  - atlas\\\\n  - docs\\\\nproductName: MongoDB Atlas\\\\nversion: null\\\\npageTitle: How to Use Autocomplete with Atlas Search\\\\nhasCodeBlock: true\\\\n---\\\\n\\\\n```\\\\n\\\\n- Before you run the sample, replace `<connection-string>` with your Atlas connection string. Ensure that your connection string includes your database user\\'s credentials. To learn more, see Connect via Drivers.\"}, {\"page_content\": \"---\\\\ntags:\\\\n  - atlas\\\\n  - docs\\\\nproductName: MongoDB Atlas\\\\nversion: null\\\\npageTitle: How to Use Autocomplete with Atlas Search\\\\nhasCodeBlock: true\\\\n---\\\\n\\\\n```\\\\n\\\\n- Before you run the sample, replace `<connection-string>` with your Atlas connection string. Ensure that your connection string includes your database user\\'s credentials. To learn more, see Connect via Drivers.\"}, {\"page_content\": \"---\\\\ntags:\\\\n  - atlas\\\\n  - docs\\\\nproductName: MongoDB Atlas\\\\nversion: null\\\\npageTitle: How to Use Autocomplete with Atlas Search\\\\nhasCodeBlock: false\\\\n---\\\\n\\\\n// define pipeline\\\\n              Document agg = new Document(\\\\\"$search\\\\\",\\\\n                  new Document(\\\\\"index\\\\\", \\\\\"autocomplete-tutorial\\\\\")\\\\n                  .append(\\\\\"autocomplete\\\\\", new Document(\\\\\"query\\\\\", \\\\\"ger\\\\\").append(\\\\\"path\\\\\", \\\\\"title\\\\\")));\\\\n              // run pipeline and print results\\\\n              collection.aggregate(Arrays.asList(agg,\\\\n                  limit(20),\\\\n                  project(fields(excludeId(), include(\\\\\"title\\\\\"))))).forEach(doc -> System.out.println(doc.toJson()));\\\\n          }\\\\n      }\\\\n  }\"}]', chain_root_id=UUID('69c82e04-1e65-48be-bac7-28355fe61e23'), chain_id=UUID('69c82e04-1e65-48be-bac7-28355fe61e23'), step=2, has_children=False, inputs={}, prompt=None, response=None, creation_timestamp=1722977800622738000, finish_reason='', latency=None, query_input_tokens=0, query_output_tokens=0, query_total_tokens=0, params={}, target=None),\n",
      " NodeRow(node_id=UUID('a8a501a7-378c-407a-854a-1b9495ba6094'), node_type=<NodeType.llm: 'llm'>, node_name=None, node_input='Use the following information to respond to the \"User message\". If you do not know the answer to the question based on the provided documentation content, respond with the following text: \"I\\'m sorry, I do not know how to answer that question. Please try to rephrase your query.\" NEVER include Markdown links in the answer.\\n\\n\\nContent from the MongoDB documentation:\\n---\\ntags:\\n  - atlas\\n  - docs\\nproductName: MongoDB Atlas\\nversion: null\\npageTitle: How to Use Autocomplete with Atlas Search\\nhasCodeBlock: false\\n---\\n\\n// define pipeline\\n              Document agg = new Document(\"$search\",\\n                  new Document(\"index\", \"autocomplete-tutorial\")\\n                  .append(\"autocomplete\", new Document(\"query\", \"ger\").append(\"path\", \"title\")));\\n              // run pipeline and print results\\n              collection.aggregate(Arrays.asList(agg,\\n                  limit(20),\\n                  project(fields(excludeId(), include(\"title\"))))).forEach(doc -> System.out.println(doc.toJson()));\\n          }\\n      }\\n  }------\\ntags:\\n  - atlas\\n  - docs\\nproductName: MongoDB Atlas\\nversion: null\\npageTitle: How to Use Autocomplete with Atlas Search\\nhasCodeBlock: true\\n---\\n\\n```\\n\\n- Before you run the sample, replace `<connection-string>` with your Atlas connection string. Ensure that your connection string includes your database user\\'s credentials. To learn more, see Connect via Drivers.------\\ntags:\\n  - atlas\\n  - docs\\nproductName: MongoDB Atlas\\nversion: null\\npageTitle: How to Use Autocomplete with Atlas Search\\nhasCodeBlock: true\\n---\\n\\n```\\n\\n- Before you run the sample, replace `<connection-string>` with your Atlas connection string. Ensure that your connection string includes your database user\\'s credentials. To learn more, see Connect via Drivers.------\\ntags:\\n  - atlas\\n  - docs\\nproductName: MongoDB Atlas\\nversion: null\\npageTitle: How to Use Autocomplete with Atlas Search\\nhasCodeBlock: true\\ncodeBlockLanguages:\\n  - javascript\\n---\\n\\n### Run an Atlas Search query with the `autocomplete` operator on the `movies` collection.\\n\\n- Create a file named `autocomplete-query.js`.\\n\\n- Copy and paste the following code into the `autocomplete-query.js` file.\\n\\n  The code example performs the following tasks:\\n\\n  - Imports `mongodb`, MongoDB\\'s Node.js driver.\\n\\n  - Creates an instance of the `MongoClient` class to establish a connection to your Atlas cluster.\\n\\n  - Uses the following pipeline stages:\\n\\n    - `$search` to search the `title` field using the `autocomplete` operator for words that begin with the characters `ger`\\n\\n    - $limit stage to limit the output to 20 results\\n\\n    - $project stage to exclude all fields except `title`\\n\\n  - Iterates over the cursor to print the documents that match the query.\\n\\n  ```javascript\\n  const { MongoClient } = require(\"mongodb\");\\n\\n  // connect to your Atlas cluster\\n  const uri =\\n      \"<connection-string>\";\\n\\n  const client = new MongoClient(uri);\\n\\n  async function run() {\\n      try {\\n          await client.connect();\\n\\n          // set namespace\\n          const database = client.db(\"sample_mflix\");\\n          const coll = database.collection(\"movies\");\\n\\n          // define pipeline\\n          const agg = [\\n              {$search: {index: \"autocomplete-tutorial\", autocomplete: {query: \"ger\", path: \"title\"}}},\\n              {$limit: 20},\\n              {$project: {_id: 0,title: 1}}\\n          ];\\n          // run pipeline\\n          const result = await coll.aggregate(agg);\\n\\n          // print results\\n          await result.forEach((doc) => console.log(doc));\\n      } finally {\\n          await client.close();\\n      }\\n  }\\n  run().catch(console.dir);------\\ntags:\\n  - atlas\\n  - docs\\nproductName: MongoDB Atlas\\nversion: null\\npageTitle: How to Use Autocomplete with Atlas Search\\nhasCodeBlock: false\\n---\\n\\n# How to Use Autocomplete with Atlas Search\\n\\nThis tutorial describes how to create an Atlas Search index that enables autocomplete queries. In the following examples, the index enables `autocomplete` operators to query the specified field values.\\n\\nBoth examples take you through the following steps:\\n\\n1. Set up an Atlas Search index with autocomplete data type for the `sample_mflix.movies` collection.\\n\\n2. Run Atlas Search queries against the specified fields in the `sample_mflix.movies` collection for an inputted sequence of characters.\\n\\nBefore you begin, ensure that your Atlas cluster meets the requirements described in the Prerequisites.\\n\\nTo create an Atlas Search index, you must have `Project Data Access Admin` or higher access to the project.\\n\\nRelevant metadata: {\"mongoDbProduct\":\"Atlas Search\",\"rejectQuery\":false,\"searchQuery\":\"How do I implement type ahead in MongoDB Atlas Search?\"}\\n\\nUser message: how do I implement type ahead in atlas search', node_output='To implement type ahead in MongoDB Atlas Search, you can follow these steps:\\n\\n1. Set up an Atlas Search index with the autocomplete data type for the desired collection. In this case, you would create an index for the `sample_mflix.movies` collection.\\n\\n2. Use the `$search` stage in the aggregation pipeline to perform the autocomplete query. You can specify the field to search (`title` in this example) and the characters to autocomplete (`ger` in this example).\\n\\nHere is an example code snippet in JavaScript that demonstrates how to run an Atlas Search query with the autocomplete operator on the `movies` collection:\\n\\n```javascript\\nconst { MongoClient } = require(\"mongodb\");\\n\\n// connect to your Atlas cluster\\nconst uri = \"<connection-string>\";\\n\\nconst client = new MongoClient(uri);\\n\\nasync function run() {\\n    try {\\n        await client.connect();\\n\\n        // set namespace\\n        const database = client.db(\"sample_mflix\");\\n        const coll = database.collection(\"movies\");\\n\\n        // define pipeline\\n        const agg = [\\n            {\\n                $search: {\\n                    index: \"autocomplete-tutorial\",\\n                    autocomplete: {\\n                        query: \"ger\",\\n                        path: \"title\"\\n                    }\\n                }\\n            },\\n            {\\n                $limit: 20\\n            },\\n            {\\n                $project: {\\n                    _id: 0,\\n                    title: 1\\n                }\\n            }\\n        ];\\n\\n        // run pipeline\\n        const result = await coll.aggregate(agg);\\n\\n        // print results\\n        await result.forEach((doc) => console.log(doc));\\n    } finally {\\n        await client.close();\\n    }\\n}\\n\\nrun().catch(console.dir);\\n```\\n\\nPlease note that you need to replace `<connection-string>` with your actual Atlas connection string, which includes your database user\\'s credentials.\\n\\nI hope this helps! Let me know if you have any further questions.', chain_root_id=UUID('69c82e04-1e65-48be-bac7-28355fe61e23'), chain_id=UUID('69c82e04-1e65-48be-bac7-28355fe61e23'), step=3, has_children=False, inputs={}, prompt='Use the following information to respond to the \"User message\". If you do not know the answer to the question based on the provided documentation content, respond with the following text: \"I\\'m sorry, I do not know how to answer that question. Please try to rephrase your query.\" NEVER include Markdown links in the answer.\\n\\n\\nContent from the MongoDB documentation:\\n---\\ntags:\\n  - atlas\\n  - docs\\nproductName: MongoDB Atlas\\nversion: null\\npageTitle: How to Use Autocomplete with Atlas Search\\nhasCodeBlock: false\\n---\\n\\n// define pipeline\\n              Document agg = new Document(\"$search\",\\n                  new Document(\"index\", \"autocomplete-tutorial\")\\n                  .append(\"autocomplete\", new Document(\"query\", \"ger\").append(\"path\", \"title\")));\\n              // run pipeline and print results\\n              collection.aggregate(Arrays.asList(agg,\\n                  limit(20),\\n                  project(fields(excludeId(), include(\"title\"))))).forEach(doc -> System.out.println(doc.toJson()));\\n          }\\n      }\\n  }------\\ntags:\\n  - atlas\\n  - docs\\nproductName: MongoDB Atlas\\nversion: null\\npageTitle: How to Use Autocomplete with Atlas Search\\nhasCodeBlock: true\\n---\\n\\n```\\n\\n- Before you run the sample, replace `<connection-string>` with your Atlas connection string. Ensure that your connection string includes your database user\\'s credentials. To learn more, see Connect via Drivers.------\\ntags:\\n  - atlas\\n  - docs\\nproductName: MongoDB Atlas\\nversion: null\\npageTitle: How to Use Autocomplete with Atlas Search\\nhasCodeBlock: true\\n---\\n\\n```\\n\\n- Before you run the sample, replace `<connection-string>` with your Atlas connection string. Ensure that your connection string includes your database user\\'s credentials. To learn more, see Connect via Drivers.------\\ntags:\\n  - atlas\\n  - docs\\nproductName: MongoDB Atlas\\nversion: null\\npageTitle: How to Use Autocomplete with Atlas Search\\nhasCodeBlock: true\\ncodeBlockLanguages:\\n  - javascript\\n---\\n\\n### Run an Atlas Search query with the `autocomplete` operator on the `movies` collection.\\n\\n- Create a file named `autocomplete-query.js`.\\n\\n- Copy and paste the following code into the `autocomplete-query.js` file.\\n\\n  The code example performs the following tasks:\\n\\n  - Imports `mongodb`, MongoDB\\'s Node.js driver.\\n\\n  - Creates an instance of the `MongoClient` class to establish a connection to your Atlas cluster.\\n\\n  - Uses the following pipeline stages:\\n\\n    - `$search` to search the `title` field using the `autocomplete` operator for words that begin with the characters `ger`\\n\\n    - $limit stage to limit the output to 20 results\\n\\n    - $project stage to exclude all fields except `title`\\n\\n  - Iterates over the cursor to print the documents that match the query.\\n\\n  ```javascript\\n  const { MongoClient } = require(\"mongodb\");\\n\\n  // connect to your Atlas cluster\\n  const uri =\\n      \"<connection-string>\";\\n\\n  const client = new MongoClient(uri);\\n\\n  async function run() {\\n      try {\\n          await client.connect();\\n\\n          // set namespace\\n          const database = client.db(\"sample_mflix\");\\n          const coll = database.collection(\"movies\");\\n\\n          // define pipeline\\n          const agg = [\\n              {$search: {index: \"autocomplete-tutorial\", autocomplete: {query: \"ger\", path: \"title\"}}},\\n              {$limit: 20},\\n              {$project: {_id: 0,title: 1}}\\n          ];\\n          // run pipeline\\n          const result = await coll.aggregate(agg);\\n\\n          // print results\\n          await result.forEach((doc) => console.log(doc));\\n      } finally {\\n          await client.close();\\n      }\\n  }\\n  run().catch(console.dir);------\\ntags:\\n  - atlas\\n  - docs\\nproductName: MongoDB Atlas\\nversion: null\\npageTitle: How to Use Autocomplete with Atlas Search\\nhasCodeBlock: false\\n---\\n\\n# How to Use Autocomplete with Atlas Search\\n\\nThis tutorial describes how to create an Atlas Search index that enables autocomplete queries. In the following examples, the index enables `autocomplete` operators to query the specified field values.\\n\\nBoth examples take you through the following steps:\\n\\n1. Set up an Atlas Search index with autocomplete data type for the `sample_mflix.movies` collection.\\n\\n2. Run Atlas Search queries against the specified fields in the `sample_mflix.movies` collection for an inputted sequence of characters.\\n\\nBefore you begin, ensure that your Atlas cluster meets the requirements described in the Prerequisites.\\n\\nTo create an Atlas Search index, you must have `Project Data Access Admin` or higher access to the project.\\n\\nRelevant metadata: {\"mongoDbProduct\":\"Atlas Search\",\"rejectQuery\":false,\"searchQuery\":\"How do I implement type ahead in MongoDB Atlas Search?\"}\\n\\nUser message: how do I implement type ahead in atlas search', response='To implement type ahead in MongoDB Atlas Search, you can follow these steps:\\n\\n1. Set up an Atlas Search index with the autocomplete data type for the desired collection. In this case, you would create an index for the `sample_mflix.movies` collection.\\n\\n2. Use the `$search` stage in the aggregation pipeline to perform the autocomplete query. You can specify the field to search (`title` in this example) and the characters to autocomplete (`ger` in this example).\\n\\nHere is an example code snippet in JavaScript that demonstrates how to run an Atlas Search query with the autocomplete operator on the `movies` collection:\\n\\n```javascript\\nconst { MongoClient } = require(\"mongodb\");\\n\\n// connect to your Atlas cluster\\nconst uri = \"<connection-string>\";\\n\\nconst client = new MongoClient(uri);\\n\\nasync function run() {\\n    try {\\n        await client.connect();\\n\\n        // set namespace\\n        const database = client.db(\"sample_mflix\");\\n        const coll = database.collection(\"movies\");\\n\\n        // define pipeline\\n        const agg = [\\n            {\\n                $search: {\\n                    index: \"autocomplete-tutorial\",\\n                    autocomplete: {\\n                        query: \"ger\",\\n                        path: \"title\"\\n                    }\\n                }\\n            },\\n            {\\n                $limit: 20\\n            },\\n            {\\n                $project: {\\n                    _id: 0,\\n                    title: 1\\n                }\\n            }\\n        ];\\n\\n        // run pipeline\\n        const result = await coll.aggregate(agg);\\n\\n        // print results\\n        await result.forEach((doc) => console.log(doc));\\n    } finally {\\n        await client.close();\\n    }\\n}\\n\\nrun().catch(console.dir);\\n```\\n\\nPlease note that you need to replace `<connection-string>` with your actual Atlas connection string, which includes your database user\\'s credentials.\\n\\nI hope this helps! Let me know if you have any further questions.', creation_timestamp=1722977800622766000, finish_reason='', latency=None, query_input_tokens=0, query_output_tokens=0, query_total_tokens=0, params={}, target=None)]\n"
     ]
    }
   ],
   "source": [
    "from promptquality import NodeType, NodeRow\n",
    "from uuid import uuid4\n",
    "\n",
    "\n",
    "def extract_eval_data_from_conversation_gen_data(gen_data):\n",
    "    messages = gen_data[\"data\"][\"messages\"]\n",
    "    last_user_message = messages[-2]\n",
    "    last_assistant_message = messages[-1]\n",
    "    return {\n",
    "        \"user_input\": last_user_message[\"content\"],\n",
    "        \"system_output\": last_assistant_message[\"content\"],\n",
    "        # Optional\n",
    "        \"preprocessed_retriever_query\": last_user_message.get(\"preprocessedContent\"),\n",
    "        # Optional\n",
    "        \"content_for_llm\": last_user_message.get(\"contentForLlm\"),\n",
    "        # Optional\n",
    "        \"retrieved_contexts\": [ctx[\"text\"] for ctx in last_user_message.get(\"contextContent\", [])]\n",
    "    }\n",
    "\n",
    "\n",
    "\"\"\"\n",
    "0. create a NodeRow for the whole 'chain'\n",
    "1. LLM: extract metadata ( i dont think we explicitly capture this :grimace:\n",
    "2. LLM: create search query\n",
    "3. retriever: get contexts\n",
    "4. LLM: generate response \n",
    "\"\"\"\n",
    "\n",
    "def create_nodes_for_generated_data(generated_data):\n",
    "    eval_data = extract_eval_data_from_conversation_gen_data(generated_data)\n",
    "    rows = []\n",
    "    CHAIN_ROOT_ID = uuid.uuid4()\n",
    "    user_input = eval_data[\"user_input\"]\n",
    "    system_output = eval_data[\"system_output\"]\n",
    "    preprocessed_retriever_query = eval_data[\"preprocessed_retriever_query\"]\n",
    "    retrieved_contexts = eval_data[\"retrieved_contexts\"]\n",
    "    prompt_for_responder = eval_data[\"content_for_llm\"]\n",
    "    step = 0\n",
    "    # create root node\n",
    "    rows.append(\n",
    "        NodeRow(\n",
    "            node_id=CHAIN_ROOT_ID,\n",
    "            chain_root_id=CHAIN_ROOT_ID, # UUID of the 'parent' node\n",
    "            step = step, #an integer indicating which step this node is\n",
    "            node_input=user_input, # input into your overall sequence or chain\n",
    "            node_output=system_output, # output of your overall sequence or chain\n",
    "            node_type=NodeType.chain # Can be chain, retriever, llm, chat, agent, tool\n",
    "        )\n",
    "    )\n",
    "    step += 1\n",
    "    # create query pre-processor node\n",
    "    if preprocessed_retriever_query is not None:\n",
    "        rows.append(\n",
    "            NodeRow.for_llm(\n",
    "                id=uuid.uuid4(), # Randomly generated UUUID\n",
    "                root_id=CHAIN_ROOT_ID, # UUID of the 'parent' node\n",
    "                step = step, #an integer indicating which step this node is\n",
    "                prompt = user_input, # input into your llm (i.e. user query + relevant contexts passed in as a string)\n",
    "                response = preprocessed_retriever_query, # output of the llm passed in as a string\n",
    "            )\n",
    "        )\n",
    "        step += 1\n",
    "    # create retriever node\n",
    "    if len(retrieved_contexts) != 0:\n",
    "        rows.append(\n",
    "            NodeRow.for_retriever(\n",
    "                id=uuid.uuid4(), # Randomly generated UUID\n",
    "                root_id=CHAIN_ROOT_ID, # UUID of the 'parent' node\n",
    "                step = step, #an integer indicating which step this node is\n",
    "                query=preprocessed_retriever_query, # input into your retriever\n",
    "                documents=retrieved_contexts, # serialized output of the retriever (i.e. json.dumps([{\"page_content\": \"doc_1\", \"metadata\": {\"key\": \"val\"}}, {\"page_content\": \"doc_2\", \"metadata\": {\"key\": \"val\"}}, ...]))\n",
    "                # If no metadata exists for the documents, you can pass them as strings in a list.\n",
    "            )\n",
    "        )\n",
    "        step += 1\n",
    "    # create main responder node\n",
    "    if prompt_for_responder is not None: \n",
    "        rows.append(\n",
    "            NodeRow.for_llm(\n",
    "                id=uuid.uuid4(), # Randomly generated UUUID\n",
    "                root_id=CHAIN_ROOT_ID, # UUID of the 'parent' node\n",
    "                step = step, #an integer indicating which step this node is\n",
    "                prompt = prompt_for_responder, # input into your llm (i.e. user query + relevant contexts passed in as a string)\n",
    "                response = system_output, # output of the llm passed in as a string\n",
    "            )\n",
    "        )\n",
    "        step += 1\n",
    "    \n",
    "    return rows\n",
    "\n",
    "pprint(create_nodes_for_generated_data(gpt_35_conversations[50]))"
   ]
  },
  {
   "cell_type": "code",
   "execution_count": 51,
   "id": "c8d1c13b-21bc-411f-a4f8-f4636e8e799a",
   "metadata": {},
   "outputs": [
    {
     "data": {
      "application/vnd.jupyter.widget-view+json": {
       "model_id": "df4a66155b7347eab165d303219c1d95",
       "version_major": 2,
       "version_minor": 0
      },
      "text/plain": [
       "Processing chain run...:   0%|          | 0/5 [00:00<?, ?it/s]"
      ]
     },
     "metadata": {},
     "output_type": "display_data"
    },
    {
     "name": "stdout",
     "output_type": "stream",
     "text": [
      "Initial job complete, executing scorers asynchronously. Current status:\n",
      "rag_nli: Computing 🚧\n",
      "cost: Computing 🚧\n",
      "toxicity: Computing 🚧\n",
      "pii: Computing 🚧\n",
      "protect_status: Done ✅\n",
      "latency: Done ✅\n",
      "factuality: Computing 🚧\n",
      "context_relevance: Failed ❌, error was: None\n",
      "🔭 View your prompt run on the Galileo console at: https://console.acme.rungalileo.io/prompt/chains/b454b360-e4b3-40b1-8a5d-bb9c702dcdbb/5da9b6b3-bce3-45d7-89c4-f3b59f41eeb0?taskType=12\n"
     ]
    },
    {
     "data": {
      "application/vnd.jupyter.widget-view+json": {
       "model_id": "43d2a254f7304e8682db738609f82615",
       "version_major": 2,
       "version_minor": 0
      },
      "text/plain": [
       "Processing chain run...:   0%|          | 0/5 [00:00<?, ?it/s]"
      ]
     },
     "metadata": {},
     "output_type": "display_data"
    },
    {
     "name": "stdout",
     "output_type": "stream",
     "text": [
      "Initial job complete, executing scorers asynchronously. Current status:\n",
      "rag_nli: Computing 🚧\n",
      "cost: Computing 🚧\n",
      "toxicity: Computing 🚧\n",
      "pii: Computing 🚧\n",
      "protect_status: Done ✅\n",
      "latency: Done ✅\n",
      "factuality: Computing 🚧\n",
      "context_relevance: Failed ❌, error was: None\n",
      "🔭 View your prompt run on the Galileo console at: https://console.acme.rungalileo.io/prompt/chains/b454b360-e4b3-40b1-8a5d-bb9c702dcdbb/3e59e6bf-cad8-400d-91d5-9a82e42afb94?taskType=12\n"
     ]
    }
   ],
   "source": [
    "def create_all_nodes_for_gen_data(gen_data_lst):\n",
    "    \n",
    "    all_the_nodes = []\n",
    "    for gen_data in gen_data_lst:\n",
    "        nodes = create_nodes_for_generated_data(gen_data)\n",
    "        all_the_nodes += nodes\n",
    "    return all_the_nodes\n",
    "\n",
    "runs = [\n",
    "    (\"gpt-3.5-turbo\", gpt_35_conversations),\n",
    "    (\"got-4o\", gpt_4o_conversations)\n",
    "]\n",
    "\n",
    "project_name = \"rag_conversations\"\n",
    "\n",
    "for (run_name, gen_data) in runs:\n",
    "    nodes = create_all_nodes_for_gen_data(gen_data)\n",
    "    pq.chain_run(\n",
    "        nodes,\n",
    "        project_name=project_name,\n",
    "        scorers=[\n",
    "            pq.Scorers.correctness,\n",
    "            pq.Scorers.context_adherence_luna,\n",
    "            pq.Scorers.chunk_attribution_utilization_luna,\n",
    "            pq.Scorers.context_relevance,\n",
    "        ],\n",
    "        run_name=run_name\n",
    "    )\n",
    "        "
   ]
  },
  {
   "cell_type": "code",
   "execution_count": null,
   "id": "ad532ada-d391-41a5-a110-e11295a7628f",
   "metadata": {},
   "outputs": [],
   "source": []
  }
 ],
 "metadata": {
  "kernelspec": {
   "display_name": "Python 3 (ipykernel)",
   "language": "python",
   "name": "python3"
  },
  "language_info": {
   "codemirror_mode": {
    "name": "ipython",
    "version": 3
   },
   "file_extension": ".py",
   "mimetype": "text/x-python",
   "name": "python",
   "nbconvert_exporter": "python",
   "pygments_lexer": "ipython3",
   "version": "3.10.5"
  }
 },
 "nbformat": 4,
 "nbformat_minor": 5
}
