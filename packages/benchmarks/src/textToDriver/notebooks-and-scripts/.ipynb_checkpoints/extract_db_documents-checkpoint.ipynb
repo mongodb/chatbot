{
 "cells": [
  {
   "cell_type": "markdown",
   "id": "50f18eeb-2b08-4db6-bf25-b731bd8f6e35",
   "metadata": {},
   "source": [
    "# Extract DB Documents\n",
    "\n",
    "Extract database documents from the app modernization project"
   ]
  },
  {
   "cell_type": "code",
   "execution_count": 1,
   "id": "a248dd48-62ae-4efa-a3bd-ac3461f8c362",
   "metadata": {},
   "outputs": [],
   "source": [
    "import json\n",
    "import os"
   ]
  },
  {
   "cell_type": "code",
   "execution_count": 2,
   "id": "de985e0a-44d3-40ad-a054-8dd5751b5726",
   "metadata": {},
   "outputs": [],
   "source": [
    "datasets = [\n",
    "    \"cinema_recommended\",\n",
    "    \"coffee_shop_recommended\",\n",
    "    \"company_1_recommended\",\n",
    "    \"company_office_recommended\",\n",
    "    \"county_public_safety_recommended\",\n",
    "    \"customers_and_invoices_rcm_complex\",\n",
    "    \"department_management_recommended\",\n",
    "    \"museum_visit_recommended\",\n",
    "    \"news_report_recommended\",\n",
    "    \"northwind_one_to_one\"\n",
    "]\n"
   ]
  },
  {
   "cell_type": "code",
   "execution_count": 3,
   "id": "eb49ec56-3070-490b-90e8-e4f55ce2bf04",
   "metadata": {},
   "outputs": [
    {
     "name": "stdin",
     "output_type": "stream",
     "text": [
      "directory of the app mod project (e.g. /Users/<USER>/projects) /Users/ben.p/projects\n"
     ]
    },
    {
     "name": "stdout",
     "output_type": "stream",
     "text": [
      "App mod dir: /Users/ben.p/projects\n"
     ]
    }
   ],
   "source": [
    "app_mod_dir = input(\"directory of the app mod project (e.g. /Users/<USER>/projects)\")\n",
    "print(f\"App mod dir: {app_mod_dir}\")\n",
    "root_dir_path = os.path.join(app_mod_dir, \"app-modernisation/tests/fixtures\")"
   ]
  },
  {
   "cell_type": "code",
   "execution_count": 4,
   "id": "147759d6-b2b5-4fd1-aeaf-b9f8ea3c422f",
   "metadata": {},
   "outputs": [
    {
     "name": "stdout",
     "output_type": "stream",
     "text": [
      "Requirement already satisfied: pyyaml in /Users/ben.p/.pyenv/versions/3.10.5/lib/python3.10/site-packages (6.0.1)\n",
      "\n",
      "\u001b[1m[\u001b[0m\u001b[34;49mnotice\u001b[0m\u001b[1;39;49m]\u001b[0m\u001b[39;49m A new release of pip is available: \u001b[0m\u001b[31;49m24.0\u001b[0m\u001b[39;49m -> \u001b[0m\u001b[32;49m24.2\u001b[0m\n",
      "\u001b[1m[\u001b[0m\u001b[34;49mnotice\u001b[0m\u001b[1;39;49m]\u001b[0m\u001b[39;49m To update, run: \u001b[0m\u001b[32;49mpip install --upgrade pip\u001b[0m\n",
      "Requirement already satisfied: pymongo==4.8.0 in /Users/ben.p/.pyenv/versions/3.10.5/lib/python3.10/site-packages (4.8.0)\n",
      "Requirement already satisfied: dnspython<3.0.0,>=1.16.0 in /Users/ben.p/.pyenv/versions/3.10.5/lib/python3.10/site-packages (from pymongo==4.8.0) (2.6.1)\n",
      "\n",
      "\u001b[1m[\u001b[0m\u001b[34;49mnotice\u001b[0m\u001b[1;39;49m]\u001b[0m\u001b[39;49m A new release of pip is available: \u001b[0m\u001b[31;49m24.0\u001b[0m\u001b[39;49m -> \u001b[0m\u001b[32;49m24.2\u001b[0m\n",
      "\u001b[1m[\u001b[0m\u001b[34;49mnotice\u001b[0m\u001b[1;39;49m]\u001b[0m\u001b[39;49m To update, run: \u001b[0m\u001b[32;49mpip install --upgrade pip\u001b[0m\n"
     ]
    }
   ],
   "source": [
    "!pip install pyyaml\n",
    "!pip install pymongo==4.8.0"
   ]
  },
  {
   "cell_type": "code",
   "execution_count": 6,
   "id": "6b0edca6-fcfd-4fe2-87fc-cfa2b9d29a61",
   "metadata": {
    "scrolled": true
   },
   "outputs": [
    {
     "ename": "ModuleNotFoundError",
     "evalue": "No module named 'bson'",
     "output_type": "error",
     "traceback": [
      "\u001b[0;31m---------------------------------------------------------------------------\u001b[0m",
      "\u001b[0;31mModuleNotFoundError\u001b[0m                       Traceback (most recent call last)",
      "Cell \u001b[0;32mIn[6], line 4\u001b[0m\n\u001b[1;32m      2\u001b[0m \u001b[38;5;28;01mimport\u001b[39;00m \u001b[38;5;21;01mre\u001b[39;00m\n\u001b[1;32m      3\u001b[0m \u001b[38;5;28;01mimport\u001b[39;00m \u001b[38;5;21;01myaml\u001b[39;00m\n\u001b[0;32m----> 4\u001b[0m \u001b[38;5;28;01mfrom\u001b[39;00m \u001b[38;5;21;01mpymongo\u001b[39;00m \u001b[38;5;28;01mimport\u001b[39;00m bson\n\u001b[1;32m      5\u001b[0m mdb_dump_path \u001b[38;5;241m=\u001b[39m \u001b[38;5;124m\"\u001b[39m\u001b[38;5;124mmdb_dump\u001b[39m\u001b[38;5;124m\"\u001b[39m\n\u001b[1;32m      7\u001b[0m dataset_and_paths \u001b[38;5;241m=\u001b[39m \u001b[38;5;28mlist\u001b[39m( \u001b[38;5;28mmap\u001b[39m( \u001b[38;5;28;01mlambda\u001b[39;00m dataset: (\n\u001b[1;32m      8\u001b[0m     dataset, \n\u001b[1;32m      9\u001b[0m     os\u001b[38;5;241m.\u001b[39mpath\u001b[38;5;241m.\u001b[39mjoin(root_dir_path, dataset, mdb_dump_path),\n\u001b[1;32m     10\u001b[0m ), datasets))\n",
      "File \u001b[0;32m~/.pyenv/versions/3.10.5/lib/python3.10/site-packages/pymongo/__init__.py:90\u001b[0m\n\u001b[1;32m     88\u001b[0m \u001b[38;5;28;01mfrom\u001b[39;00m \u001b[38;5;21;01mpymongo\u001b[39;00m \u001b[38;5;28;01mimport\u001b[39;00m _csot\n\u001b[1;32m     89\u001b[0m \u001b[38;5;28;01mfrom\u001b[39;00m \u001b[38;5;21;01mpymongo\u001b[39;00m\u001b[38;5;21;01m.\u001b[39;00m\u001b[38;5;21;01m_version\u001b[39;00m \u001b[38;5;28;01mimport\u001b[39;00m __version__, get_version_string, version_tuple\n\u001b[0;32m---> 90\u001b[0m \u001b[38;5;28;01mfrom\u001b[39;00m \u001b[38;5;21;01mpymongo\u001b[39;00m\u001b[38;5;21;01m.\u001b[39;00m\u001b[38;5;21;01mcollection\u001b[39;00m \u001b[38;5;28;01mimport\u001b[39;00m ReturnDocument\n\u001b[1;32m     91\u001b[0m \u001b[38;5;28;01mfrom\u001b[39;00m \u001b[38;5;21;01mpymongo\u001b[39;00m\u001b[38;5;21;01m.\u001b[39;00m\u001b[38;5;21;01mcommon\u001b[39;00m \u001b[38;5;28;01mimport\u001b[39;00m MAX_SUPPORTED_WIRE_VERSION, MIN_SUPPORTED_WIRE_VERSION\n\u001b[1;32m     92\u001b[0m \u001b[38;5;28;01mfrom\u001b[39;00m \u001b[38;5;21;01mpymongo\u001b[39;00m\u001b[38;5;21;01m.\u001b[39;00m\u001b[38;5;21;01mcursor\u001b[39;00m \u001b[38;5;28;01mimport\u001b[39;00m CursorType\n",
      "File \u001b[0;32m~/.pyenv/versions/3.10.5/lib/python3.10/site-packages/pymongo/collection.py:38\u001b[0m\n\u001b[1;32m     18\u001b[0m \u001b[38;5;28;01mfrom\u001b[39;00m \u001b[38;5;21;01mcollections\u001b[39;00m \u001b[38;5;28;01mimport\u001b[39;00m abc\n\u001b[1;32m     19\u001b[0m \u001b[38;5;28;01mfrom\u001b[39;00m \u001b[38;5;21;01mtyping\u001b[39;00m \u001b[38;5;28;01mimport\u001b[39;00m (\n\u001b[1;32m     20\u001b[0m     TYPE_CHECKING,\n\u001b[1;32m     21\u001b[0m     Any,\n\u001b[0;32m   (...)\u001b[0m\n\u001b[1;32m     35\u001b[0m     cast,\n\u001b[1;32m     36\u001b[0m )\n\u001b[0;32m---> 38\u001b[0m \u001b[38;5;28;01mfrom\u001b[39;00m \u001b[38;5;21;01mbson\u001b[39;00m\u001b[38;5;21;01m.\u001b[39;00m\u001b[38;5;21;01mcodec_options\u001b[39;00m \u001b[38;5;28;01mimport\u001b[39;00m DEFAULT_CODEC_OPTIONS, CodecOptions\n\u001b[1;32m     39\u001b[0m \u001b[38;5;28;01mfrom\u001b[39;00m \u001b[38;5;21;01mbson\u001b[39;00m\u001b[38;5;21;01m.\u001b[39;00m\u001b[38;5;21;01mobjectid\u001b[39;00m \u001b[38;5;28;01mimport\u001b[39;00m ObjectId\n\u001b[1;32m     40\u001b[0m \u001b[38;5;28;01mfrom\u001b[39;00m \u001b[38;5;21;01mbson\u001b[39;00m\u001b[38;5;21;01m.\u001b[39;00m\u001b[38;5;21;01mraw_bson\u001b[39;00m \u001b[38;5;28;01mimport\u001b[39;00m RawBSONDocument\n",
      "\u001b[0;31mModuleNotFoundError\u001b[0m: No module named 'bson'"
     ]
    }
   ],
   "source": [
    "from pprint import pprint\n",
    "import re\n",
    "import yaml\n",
    "import bson\n",
    "mdb_dump_path = \"mdb_dump\"\n",
    "\n",
    "dataset_and_paths = list( map( lambda dataset: (\n",
    "    dataset, \n",
    "    os.path.join(root_dir_path, dataset, mdb_dump_path),\n",
    "), datasets))\n",
    "    \n",
    "database_documents = []\n",
    "for (ds_name, db_dump_dir) in dataset_and_paths:\n",
    "    \n",
    "    for bson_file in list(filter(lambda file_path: file_path.endswith(\".bson\"), os.listdir(db_dump_dir))):\n",
    "        with open(os.path.join(db_dump_dir, bson_file), 'rb') as f:\n",
    "            collection_name = \"TODO\"\n",
    "            \n",
    "            data = f.read(f)\n",
    "            c = bson.decode_all(data)\n",
    "            print(c)\n",
    "            for doc in bson.decode_all(data):\n",
    "                \n",
    "                db_doc = {\n",
    "                    \"databaseName\": ds_name,\n",
    "                    \"datasetName\": ds_name,\n",
    "                    \"collectionName\": collection_name,\n",
    "                    \"ejson\": bson.json_util.dumps(doc, json_options=bson.json_util.CANONICAL_JSON_OPTIONS)\n",
    "                }\n",
    "                database_documents.append(db_doc)\n",
    "print(len(database_documents))\n",
    "            \n",
    "        \n"
   ]
  },
  {
   "cell_type": "code",
   "execution_count": 30,
   "id": "a370706a-7dcb-4ad9-ae34-9f489e145265",
   "metadata": {},
   "outputs": [
    {
     "name": "stdout",
     "output_type": "stream",
     "text": [
      "Wrote to: data_out/database_metadata.json\n"
     ]
    }
   ],
   "source": [
    "data_out_dir = \"data_out\"\n",
    "if not os.path.exists(data_out_dir):\n",
    "    os.makedirs(data_out_dir)\n",
    "\n",
    "path_out = os.path.join(data_out_dir,\"database_metadata.json\")\n",
    "with open(path_out, \"a\") as f_out:\n",
    "    f_out.write(json.dumps(database_metadatas))\n",
    "    print(f\"Wrote to: {path_out}\")\n",
    "        "
   ]
  },
  {
   "cell_type": "code",
   "execution_count": null,
   "id": "a8755ad8-7027-48b4-bd71-b690cedaead0",
   "metadata": {},
   "outputs": [],
   "source": []
  }
 ],
 "metadata": {
  "kernelspec": {
   "display_name": "Python 3 (ipykernel)",
   "language": "python",
   "name": "python3"
  },
  "language_info": {
   "codemirror_mode": {
    "name": "ipython",
    "version": 3
   },
   "file_extension": ".py",
   "mimetype": "text/x-python",
   "name": "python",
   "nbconvert_exporter": "python",
   "pygments_lexer": "ipython3",
   "version": "3.10.5"
  }
 },
 "nbformat": 4,
 "nbformat_minor": 5
}
