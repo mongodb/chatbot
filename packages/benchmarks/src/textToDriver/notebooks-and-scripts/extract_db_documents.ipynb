{
 "cells": [
  {
   "cell_type": "markdown",
   "id": "50f18eeb-2b08-4db6-bf25-b731bd8f6e35",
   "metadata": {},
   "source": [
    "# Extract DB Documents\n",
    "\n",
    "Extract database documents from the app modernization project"
   ]
  },
  {
   "cell_type": "code",
   "execution_count": 5,
   "id": "a248dd48-62ae-4efa-a3bd-ac3461f8c362",
   "metadata": {},
   "outputs": [],
   "source": [
    "import json\n",
    "import os"
   ]
  },
  {
   "cell_type": "code",
   "execution_count": 4,
   "id": "de985e0a-44d3-40ad-a054-8dd5751b5726",
   "metadata": {},
   "outputs": [],
   "source": [
    "datasets = [\n",
    "    \"cinema_recommended\",\n",
    "    \"coffee_shop_recommended\",\n",
    "    \"company_1_recommended\",\n",
    "    \"company_office_recommended\",\n",
    "    \"county_public_safety_recommended\",\n",
    "    \"customers_and_invoices_rcm_complex\",\n",
    "    \"department_management_recommended\",\n",
    "    \"museum_visit_recommended\",\n",
    "    \"news_report_recommended\",\n",
    "    \"northwind_one_to_one\"\n",
    "]\n"
   ]
  },
  {
   "cell_type": "code",
   "execution_count": 6,
   "id": "eb49ec56-3070-490b-90e8-e4f55ce2bf04",
   "metadata": {},
   "outputs": [
    {
     "name": "stdout",
     "output_type": "stream",
     "text": [
      "directory of the app mod project (e.g. /Users/<USER>/projects) /Users/ben.p/projects\n"
     ]
    },
    {
     "name": "stdout",
     "output_type": "stream",
     "text": [
      "App mod dir: /Users/ben.p/projects\n"
     ]
    }
   ],
   "source": [
    "app_mod_dir = input(\"directory of the app mod project (e.g. /Users/<USER>/projects)\")\n",
    "print(f\"App mod dir: {app_mod_dir}\")\n",
    "root_dir_path = os.path.join(app_mod_dir, \"app-modernisation/tests/fixtures\")"
   ]
  },
  {
   "cell_type": "code",
   "execution_count": 2,
   "id": "147759d6-b2b5-4fd1-aeaf-b9f8ea3c422f",
   "metadata": {},
   "outputs": [
    {
     "name": "stdout",
     "output_type": "stream",
     "text": [
      "Requirement already satisfied: pyyaml in /Users/ben.p/.pyenv/versions/3.10.5/lib/python3.10/site-packages (6.0.1)\n",
      "\n",
      "\u001b[1m[\u001b[0m\u001b[34;49mnotice\u001b[0m\u001b[1;39;49m]\u001b[0m\u001b[39;49m A new release of pip is available: \u001b[0m\u001b[31;49m24.0\u001b[0m\u001b[39;49m -> \u001b[0m\u001b[32;49m24.2\u001b[0m\n",
      "\u001b[1m[\u001b[0m\u001b[34;49mnotice\u001b[0m\u001b[1;39;49m]\u001b[0m\u001b[39;49m To update, run: \u001b[0m\u001b[32;49mpip install --upgrade pip\u001b[0m\n",
      "Collecting pymongo\n",
      "  Using cached pymongo-4.8.0-cp310-cp310-macosx_10_9_x86_64.whl.metadata (22 kB)\n",
      "Requirement already satisfied: dnspython<3.0.0,>=1.16.0 in /Users/ben.p/.pyenv/versions/3.10.5/lib/python3.10/site-packages (from pymongo) (2.6.1)\n",
      "Using cached pymongo-4.8.0-cp310-cp310-macosx_10_9_x86_64.whl (592 kB)\n",
      "Installing collected packages: pymongo\n",
      "Successfully installed pymongo-4.8.0\n",
      "\n",
      "\u001b[1m[\u001b[0m\u001b[34;49mnotice\u001b[0m\u001b[1;39;49m]\u001b[0m\u001b[39;49m A new release of pip is available: \u001b[0m\u001b[31;49m24.0\u001b[0m\u001b[39;49m -> \u001b[0m\u001b[32;49m24.2\u001b[0m\n",
      "\u001b[1m[\u001b[0m\u001b[34;49mnotice\u001b[0m\u001b[1;39;49m]\u001b[0m\u001b[39;49m To update, run: \u001b[0m\u001b[32;49mpip install --upgrade pip\u001b[0m\n"
     ]
    }
   ],
   "source": [
    "!pip install pyyaml\n",
    "!pip install pymongo"
   ]
  },
  {
   "cell_type": "code",
   "execution_count": 16,
   "id": "6b0edca6-fcfd-4fe2-87fc-cfa2b9d29a61",
   "metadata": {
    "scrolled": true
   },
   "outputs": [
    {
     "name": "stdout",
     "output_type": "stream",
     "text": [
      "{'collectionName': 'film',\n",
      " 'databaseName': 'cinema_recommended',\n",
      " 'datasetName': 'cinema_recommended',\n",
      " 'ejson': {'Directed_by': 'Bill Schreiner',\n",
      "           'Film_ID': 1,\n",
      "           'Number_in_season': 1,\n",
      "           'Original_air_date': 'September 21–25, 1992',\n",
      "           'Production_code': '50021–50025',\n",
      "           'Rank_in_series': 26,\n",
      "           'Title': 'The Case of the Mystery Weekend',\n",
      "           '_id': ObjectId('6684f7a494b83277ad663756'),\n",
      "           'schedule': [{'Cinema_ID': 1,\n",
      "                         'Date': '21 May',\n",
      "                         'Film_ID': 1,\n",
      "                         'Price': 12.989999771118164,\n",
      "                         'Show_times_per_day': 5},\n",
      "                        {'Cinema_ID': 2,\n",
      "                         'Date': '11 July',\n",
      "                         'Film_ID': 1,\n",
      "                         'Price': 9.989999771118164,\n",
      "                         'Show_times_per_day': 5},\n",
      "                        {'Cinema_ID': 10,\n",
      "                         'Date': '19 May',\n",
      "                         'Film_ID': 1,\n",
      "                         'Price': 15.989999771118164,\n",
      "                         'Show_times_per_day': 5}]}}\n"
     ]
    }
   ],
   "source": [
    "from pprint import pprint\n",
    "import bson\n",
    "from bson import json_util\n",
    "\n",
    "mdb_dump_path = \"mdb_dump\"\n",
    "\n",
    "dataset_and_paths = list( map( lambda dataset: (\n",
    "    dataset, \n",
    "    os.path.join(root_dir_path, dataset, mdb_dump_path),\n",
    "), datasets))\n",
    "    \n",
    "database_documents = []\n",
    "for (ds_name, db_dump_dir) in dataset_and_paths:\n",
    "    \n",
    "    for bson_file in list(filter(lambda file_path: file_path.endswith(\".bson\"), os.listdir(db_dump_dir))):\n",
    "        with open(os.path.join(db_dump_dir, bson_file), 'rb') as f:\n",
    "            collection_name = os.path.splitext(os.path.basename(bson_file))[0]\n",
    "            \n",
    "            data = f.read()\n",
    "            for doc in bson.decode_all(data, json_util.CANONICAL_JSON_OPTIONS):\n",
    "                \n",
    "                db_doc = {\n",
    "                    \"databaseName\": ds_name,\n",
    "                    \"datasetName\": ds_name,\n",
    "                    \"collectionName\": collection_name,\n",
    "                    \"ejson\": doc\n",
    "                }\n",
    "                database_documents.append(db_doc)   \n",
    "pprint(database_documents[0])"
   ]
  },
  {
   "cell_type": "code",
   "execution_count": 18,
   "id": "a370706a-7dcb-4ad9-ae34-9f489e145265",
   "metadata": {},
   "outputs": [
    {
     "name": "stdout",
     "output_type": "stream",
     "text": [
      "Wrote to: data_out/database_data.json\n"
     ]
    }
   ],
   "source": [
    "data_out_dir = \"data_out\"\n",
    "if not os.path.exists(data_out_dir):\n",
    "    os.makedirs(data_out_dir)\n",
    "\n",
    "path_out = os.path.join(data_out_dir,\"database_data.json\")\n",
    "with open(path_out, \"w\") as f_out:\n",
    "    f_out.write(json_util.dumps(database_documents))\n",
    "    print(f\"Wrote to: {path_out}\")\n",
    "        "
   ]
  },
  {
   "cell_type": "code",
   "execution_count": null,
   "id": "a8755ad8-7027-48b4-bd71-b690cedaead0",
   "metadata": {},
   "outputs": [],
   "source": []
  }
 ],
 "metadata": {
  "kernelspec": {
   "display_name": "Python 3 (ipykernel)",
   "language": "python",
   "name": "python3"
  },
  "language_info": {
   "codemirror_mode": {
    "name": "ipython",
    "version": 3
   },
   "file_extension": ".py",
   "mimetype": "text/x-python",
   "name": "python",
   "nbconvert_exporter": "python",
   "pygments_lexer": "ipython3",
   "version": "3.10.5"
  }
 },
 "nbformat": 4,
 "nbformat_minor": 5
}
