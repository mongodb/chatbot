{
 "cells": [
  {
   "cell_type": "markdown",
   "id": "50f18eeb-2b08-4db6-bf25-b731bd8f6e35",
   "metadata": {},
   "source": [
    "# Extract Eval Cases\n",
    "\n",
    "Extract NL to code evaluation cases from the app modernization project. "
   ]
  },
  {
   "cell_type": "code",
   "execution_count": 1,
   "id": "a248dd48-62ae-4efa-a3bd-ac3461f8c362",
   "metadata": {},
   "outputs": [],
   "source": [
    "import json\n",
    "import os"
   ]
  },
  {
   "cell_type": "code",
   "execution_count": 2,
   "id": "de985e0a-44d3-40ad-a054-8dd5751b5726",
   "metadata": {},
   "outputs": [],
   "source": [
    "datasets = [\n",
    "    \"cinema_recommended\",\n",
    "    \"coffee_shop_recommended\",\n",
    "    \"company_1_recommended\",\n",
    "    \"company_office_recommended\",\n",
    "    \"county_public_safety_recommended\",\n",
    "    \"customers_and_invoices_rcm_complex\",\n",
    "    \"department_management_recommended\",\n",
    "    \"museum_visit_recommended\",\n",
    "    \"news_report_recommended\",\n",
    "    \"northwind_one_to_one\"\n",
    "]\n"
   ]
  },
  {
   "cell_type": "code",
   "execution_count": 3,
   "id": "eb49ec56-3070-490b-90e8-e4f55ce2bf04",
   "metadata": {},
   "outputs": [
    {
     "name": "stdout",
     "output_type": "stream",
     "text": [
      "App mod dir: /Users/ben.p/projects\n"
     ]
    }
   ],
   "source": [
    "app_mod_dir = input(\"directory of the app mod project (e.g. /Users/<USER>/projects)\")\n",
    "print(f\"App mod dir: {app_mod_dir}\")\n",
    "root_dir_path = os.path.join(app_mod_dir, \"app-modernisation/tests/fixtures\")"
   ]
  },
  {
   "cell_type": "code",
   "execution_count": 4,
   "id": "147759d6-b2b5-4fd1-aeaf-b9f8ea3c422f",
   "metadata": {},
   "outputs": [
    {
     "name": "stdout",
     "output_type": "stream",
     "text": [
      "Requirement already satisfied: pyyaml in /Users/ben.p/.pyenv/versions/3.10.5/lib/python3.10/site-packages (6.0.1)\n",
      "\n",
      "\u001b[1m[\u001b[0m\u001b[34;49mnotice\u001b[0m\u001b[1;39;49m]\u001b[0m\u001b[39;49m A new release of pip is available: \u001b[0m\u001b[31;49m24.0\u001b[0m\u001b[39;49m -> \u001b[0m\u001b[32;49m24.2\u001b[0m\n",
      "\u001b[1m[\u001b[0m\u001b[34;49mnotice\u001b[0m\u001b[1;39;49m]\u001b[0m\u001b[39;49m To update, run: \u001b[0m\u001b[32;49mpip install --upgrade pip\u001b[0m\n"
     ]
    }
   ],
   "source": [
    "!pip install pyyaml\n",
    "import yaml"
   ]
  },
  {
   "cell_type": "code",
   "execution_count": 5,
   "id": "6b0edca6-fcfd-4fe2-87fc-cfa2b9d29a61",
   "metadata": {},
   "outputs": [
    {
     "name": "stdout",
     "output_type": "stream",
     "text": [
      "Num eval cases: 177\n"
     ]
    }
   ],
   "source": [
    "from pprint import pprint\n",
    "import re\n",
    "test_cases_path = \"test_cases\"\n",
    "\n",
    "dataset_and_test_cases_paths = list( map( lambda dataset: (dataset, os.path.join(root_dir_path, dataset, test_cases_path)), datasets))\n",
    "\n",
    "def remove_num_prefix(s: str):\n",
    "    \"\"\"\n",
    "    Removes the (#SOME_NUM.) Prefix from the case name as it exists in the yaml file.\n",
    "    Ex: \"#4. Show the cinema name...\" --> Show the cinema name...\n",
    "    \"\"\"\n",
    "    return re.sub(r'^#\\d+\\.\\s*', '', s)\n",
    "    \n",
    "eval_cases = []\n",
    "for (ds_name, path) in dataset_and_test_cases_paths:\n",
    "    case_files = list(map(lambda f: os.path.join(path,f) , os.listdir(path)))\n",
    "    for case_file in case_files:\n",
    "        with open(case_file) as f:\n",
    "            yaml_case = f.read()\n",
    "            dict_case = yaml.safe_load(yaml_case)\n",
    "            # pprint(dict_case)\n",
    "            eval_case = {\n",
    "                \"input\": {\n",
    "                    \"nl_query\": remove_num_prefix(dict_case[\"name\"]),\n",
    "                    \"dataset_name\": ds_name,\n",
    "                },\n",
    "                \"expected\": dict_case[\"real_sql_output\"],\n",
    "                \"metadata\": {\n",
    "                    \"app_mod_case_id\": int(os.path.splitext(os.path.basename(case_file))[0]),\n",
    "                    \"sql\": {\n",
    "                        \"query\": dict_case[\"payload\"][\"context\"][\"code\"],\n",
    "                        \"tags\": dict_case.get(\"tags\", None)\n",
    "                    }\n",
    "                }\n",
    "            }\n",
    "            eval_cases.append(eval_case)\n",
    "\n",
    "print(f\"Num eval cases: {len(eval_cases)}\")"
   ]
  },
  {
   "cell_type": "code",
   "execution_count": 7,
   "id": "a370706a-7dcb-4ad9-ae34-9f489e145265",
   "metadata": {},
   "outputs": [
    {
     "name": "stdout",
     "output_type": "stream",
     "text": [
      "Wrote eval cases to: data_out/eval_cases.json\n"
     ]
    }
   ],
   "source": [
    "data_out_dir = \"data_out\"\n",
    "if not os.path.exists(data_out_dir):\n",
    "    os.makedirs(data_out_dir)\n",
    "\n",
    "path_out = os.path.join(data_out_dir,\"eval_cases.json\")\n",
    "with open(path_out, \"a\") as f_out:\n",
    "    f_out.write(json.dumps(eval_cases))\n",
    "    print(f\"Wrote eval cases to: {path_out}\")\n",
    "        "
   ]
  },
  {
   "cell_type": "code",
   "execution_count": null,
   "id": "a8755ad8-7027-48b4-bd71-b690cedaead0",
   "metadata": {},
   "outputs": [],
   "source": []
  }
 ],
 "metadata": {
  "kernelspec": {
   "display_name": "Python 3 (ipykernel)",
   "language": "python",
   "name": "python3"
  },
  "language_info": {
   "codemirror_mode": {
    "name": "ipython",
    "version": 3
   },
   "file_extension": ".py",
   "mimetype": "text/x-python",
   "name": "python",
   "nbconvert_exporter": "python",
   "pygments_lexer": "ipython3",
   "version": "3.10.5"
  }
 },
 "nbformat": 4,
 "nbformat_minor": 5
}
